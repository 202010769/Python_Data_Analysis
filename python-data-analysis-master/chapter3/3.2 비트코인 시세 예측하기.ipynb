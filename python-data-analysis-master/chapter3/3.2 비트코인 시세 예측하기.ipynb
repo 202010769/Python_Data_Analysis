{
 "cells": [
  {
   "cell_type": "code",
   "execution_count": 1,
   "id": "8732941b",
   "metadata": {},
   "outputs": [
    {
     "name": "stdout",
     "output_type": "stream",
     "text": [
      "(365, 2)\n",
      "<class 'pandas.core.frame.DataFrame'>\n",
      "RangeIndex: 365 entries, 0 to 364\n",
      "Data columns (total 2 columns):\n",
      " #   Column  Non-Null Count  Dtype  \n",
      "---  ------  --------------  -----  \n",
      " 0   day     365 non-null    object \n",
      " 1   price   365 non-null    float64\n",
      "dtypes: float64(1), object(1)\n",
      "memory usage: 5.8+ KB\n",
      "None\n"
     ]
    },
    {
     "data": {
      "text/html": [
       "<div>\n",
       "<style scoped>\n",
       "    .dataframe tbody tr th:only-of-type {\n",
       "        vertical-align: middle;\n",
       "    }\n",
       "\n",
       "    .dataframe tbody tr th {\n",
       "        vertical-align: top;\n",
       "    }\n",
       "\n",
       "    .dataframe thead th {\n",
       "        text-align: right;\n",
       "    }\n",
       "</style>\n",
       "<table border=\"1\" class=\"dataframe\">\n",
       "  <thead>\n",
       "    <tr style=\"text-align: right;\">\n",
       "      <th></th>\n",
       "      <th>day</th>\n",
       "      <th>price</th>\n",
       "    </tr>\n",
       "  </thead>\n",
       "  <tbody>\n",
       "    <tr>\n",
       "      <th>360</th>\n",
       "      <td>2018-08-22 00:00:00</td>\n",
       "      <td>6575.229167</td>\n",
       "    </tr>\n",
       "    <tr>\n",
       "      <th>361</th>\n",
       "      <td>2018-08-23 00:00:00</td>\n",
       "      <td>6434.881667</td>\n",
       "    </tr>\n",
       "    <tr>\n",
       "      <th>362</th>\n",
       "      <td>2018-08-24 00:00:00</td>\n",
       "      <td>6543.645714</td>\n",
       "    </tr>\n",
       "    <tr>\n",
       "      <th>363</th>\n",
       "      <td>2018-08-25 00:00:00</td>\n",
       "      <td>6719.429231</td>\n",
       "    </tr>\n",
       "    <tr>\n",
       "      <th>364</th>\n",
       "      <td>2018-08-26 00:00:00</td>\n",
       "      <td>6673.274167</td>\n",
       "    </tr>\n",
       "  </tbody>\n",
       "</table>\n",
       "</div>"
      ],
      "text/plain": [
       "                     day        price\n",
       "360  2018-08-22 00:00:00  6575.229167\n",
       "361  2018-08-23 00:00:00  6434.881667\n",
       "362  2018-08-24 00:00:00  6543.645714\n",
       "363  2018-08-25 00:00:00  6719.429231\n",
       "364  2018-08-26 00:00:00  6673.274167"
      ]
     },
     "execution_count": 1,
     "metadata": {},
     "output_type": "execute_result"
    }
   ],
   "source": [
    "# <market price 데이터셋의 기본 정보 구하기>\n",
    "\n",
    "%matplotlib inline \n",
    "# 주피터 노트북을 실행한 브라우저 내부에서 바로 그림을 볼 수 있게끔 만드는 것\n",
    "\n",
    "import pandas as pd # 판다스 라이브러리 import\n",
    "import numpy as np # 넘파이 라이브러리 import\n",
    "import matplotlib.pyplot as plt # matplot 라이브러리 import\n",
    "\n",
    "import warnings\n",
    "warnings.filterwarnings(\"ignore\")\n",
    "\n",
    "file_path = '../data/market-price.csv' # 사용할 파일의 경로 file_path 변수에 저장\n",
    "bitcoin_df = pd.read_csv(file_path, names = ['day', 'price']) \n",
    "# pandas로 csv파일을 dataframe으로 변환, 헤더 이름을 day와 price로 지정\n",
    "\n",
    "print(bitcoin_df.shape) # 주어진 행렬 크기를 shape함수를 사용하여 출력\n",
    "print(bitcoin_df.info()) # info 함수 사용하여, 데이터의 기초적인 정보 출력\n",
    "bitcoin_df.tail() # tail함수 사용하여 데이터셋의 하위 행 출력 (디폴트 값: 5)"
   ]
  },
  {
   "cell_type": "code",
   "execution_count": 2,
   "id": "9c514267",
   "metadata": {},
   "outputs": [
    {
     "data": {
      "image/png": "[encoded data removed]",
      "text/plain": [
       "<Figure size 432x288 with 1 Axes>"
      ]
     },
     "metadata": {
      "needs_background": "light"
     },
     "output_type": "display_data"
    }
   ],
   "source": [
    "# <시계열 정보를 데이터 프레임의 index로 설정하여 가격의 추이를 시각화하기>\n",
    "\n",
    "# to_datetime으로 day 피처를 시계열 피처로 변환합니다.\n",
    "bitcoin_df['day'] = pd.to_datetime(bitcoin_df['day']) # to_datetime으로 object형식인 day를 timestamp형태로 변환(시간으로 인식)\n",
    "\n",
    "# day 데이터 프레임의 index로 설정합니다.\n",
    "bitcoin_df.index = bitcoin_df['day']\n",
    "bitcoin_df.set_index('day', inplace = True) # df의 하나의 열로 인덱스 지정. day로 index 지정 (day를 열로)\n",
    "# False가 기본값. inplace = True라고 쓰면 데이터가 바로 변경되며 업데이트되었다는 것을 뜻한다.\n",
    "\n",
    "# 일자별 비트코인 시세를 시각화합니다.\n",
    "bitcoin_df.plot() # column이 여러개인 데이터. 한 그래프에 모두 그려짐\n",
    "plt.show() # 그래프 그리기"
   ]
  },
  {
   "cell_type": "code",
   "execution_count": 3,
   "id": "5d54d731",
   "metadata": {},
   "outputs": [
    {
     "name": "stdout",
     "output_type": "stream",
     "text": [
      "                             ARIMA Model Results                              \n",
      "==============================================================================\n",
      "Dep. Variable:                    D.y   No. Observations:                  364\n",
      "Model:                 ARIMA(2, 1, 2)   Log Likelihood               -2780.085\n",
      "Method:                       css-mle   S.D. of innovations            500.610\n",
      "Date:                Mon, 23 May 2022   AIC                           5572.170\n",
      "Time:                        03:25:24   BIC                           5595.553\n",
      "Sample:                             1   HQIC                          5581.464\n",
      "                                                                              \n",
      "==============================================================================\n",
      "                 coef    std err          z      P>|z|      [0.025      0.975]\n",
      "------------------------------------------------------------------------------\n",
      "const          6.4121     27.571      0.233      0.816     -47.625      60.449\n",
      "ar.L1.D.y     -1.7421      0.031    -55.640      0.000      -1.803      -1.681\n",
      "ar.L2.D.y     -0.9015      0.030    -29.872      0.000      -0.961      -0.842\n",
      "ma.L1.D.y      1.8438      0.019     96.090      0.000       1.806       1.881\n",
      "ma.L2.D.y      0.9849      0.020     49.620      0.000       0.946       1.024\n",
      "                                    Roots                                    \n",
      "=============================================================================\n",
      "                  Real          Imaginary           Modulus         Frequency\n",
      "-----------------------------------------------------------------------------\n",
      "AR.1           -0.9662           -0.4192j            1.0532           -0.4349\n",
      "AR.2           -0.9662           +0.4192j            1.0532            0.4349\n",
      "MA.1           -0.9361           -0.3730j            1.0077           -0.4397\n",
      "MA.2           -0.9361           +0.3730j            1.0077            0.4397\n",
      "-----------------------------------------------------------------------------\n"
     ]
    }
   ],
   "source": [
    "# <ARIMA 모델 활용하기: 모델 학습>\n",
    "\n",
    "# statsmodel 모듈로 ARIMA 분석 수행\n",
    "from statsmodels.tsa.arima_model import ARIMA\n",
    "import statsmodels.api as sm\n",
    "\n",
    "# (AR = 2, 차분 = 1, MA = 2) 파라미터로 ARIMA 모델을 학습합니다.\n",
    "# AR이 몇 번째 과거까지를 바라보는지에 대한 파라미터\n",
    "# 차분에 대한 파라미터\n",
    "# MA가 몇 번째 과거까지를 바라보는지에 대한 파라미터\n",
    "model = ARIMA(bitcoin_df.price.values, order = (2,1,2))\n",
    "#trend : constant를 가지고 있는지, c - constant / nc - no constant\n",
    "#disp : 수렴 정보를 나타냄\n",
    "model_fit = model.fit(trend = 'c', full_output = True, disp = True)\n",
    "print(model_fit.summary())"
   ]
  },
  {
   "cell_type": "code",
   "execution_count": 4,
   "id": "10645d5f",
   "metadata": {},
   "outputs": [
    {
     "data": {
      "text/plain": [
       "<AxesSubplot:>"
      ]
     },
     "execution_count": 4,
     "metadata": {},
     "output_type": "execute_result"
    },
    {
     "data": {
      "image/png": "[encoded data removed]",
      "text/plain": [
       "<Figure size 432x288 with 1 Axes>"
      ]
     },
     "metadata": {
      "needs_background": "light"
     },
     "output_type": "display_data"
    },
    {
     "data": {
      "image/png": "[encoded data removed]",
      "text/plain": [
       "<Figure size 432x288 with 1 Axes>"
      ]
     },
     "metadata": {
      "needs_background": "light"
     },
     "output_type": "display_data"
    }
   ],
   "source": [
    "# <ARIMA 모델 활용하기: 모델의 성능 & 예측 결과 시각화>\n",
    "\n",
    "# 학습 데이터에 대한 예측 결과입니다.(첫 번째 그래프)\n",
    "# plot_predict()함수로 학습한 모델에 학습 데이터셋을 넣었을 때의 시계열 에측결과의 시각화 자동 수행 가능\n",
    "fig = model_fit.plot_predict() \n",
    "# 잔차의 변동을 시각화합니다. (두 번째 그래프)\n",
    "# 실제값과 예측값 사이의 오차 변동 나타냄 (폭이 일정할수록 좋은 예측 모델을 학습시킨 것)\n",
    "residuals = pd.DataFrame(model_fit.resid)\n",
    "residuals.plot()"
   ]
  },
  {
   "cell_type": "code",
   "execution_count": 5,
   "id": "21487169",
   "metadata": {},
   "outputs": [
    {
     "data": {
      "text/html": [
       "<div>\n",
       "<style scoped>\n",
       "    .dataframe tbody tr th:only-of-type {\n",
       "        vertical-align: middle;\n",
       "    }\n",
       "\n",
       "    .dataframe tbody tr th {\n",
       "        vertical-align: top;\n",
       "    }\n",
       "\n",
       "    .dataframe thead th {\n",
       "        text-align: right;\n",
       "    }\n",
       "</style>\n",
       "<table border=\"1\" class=\"dataframe\">\n",
       "  <thead>\n",
       "    <tr style=\"text-align: right;\">\n",
       "      <th></th>\n",
       "      <th>0</th>\n",
       "      <th>1</th>\n",
       "      <th>2</th>\n",
       "      <th>3</th>\n",
       "      <th>4</th>\n",
       "    </tr>\n",
       "  </thead>\n",
       "  <tbody>\n",
       "    <tr>\n",
       "      <th>0</th>\n",
       "      <td>6743.49</td>\n",
       "      <td>6692.37</td>\n",
       "      <td>6741.49</td>\n",
       "      <td>6725.37</td>\n",
       "      <td>6732.53</td>\n",
       "    </tr>\n",
       "    <tr>\n",
       "      <th>1</th>\n",
       "      <td>500.61</td>\n",
       "      <td>744.862</td>\n",
       "      <td>899.657</td>\n",
       "      <td>1049.54</td>\n",
       "      <td>1171.4</td>\n",
       "    </tr>\n",
       "    <tr>\n",
       "      <th>2</th>\n",
       "      <td>[5762.309624449566, 7724.665175262502]</td>\n",
       "      <td>[5232.466218528859, 8152.2728968515175]</td>\n",
       "      <td>[4978.190693595412, 8504.781768252906]</td>\n",
       "      <td>[4668.304457424851, 8782.429798822346]</td>\n",
       "      <td>[4436.632753778401, 9028.431128017855]</td>\n",
       "    </tr>\n",
       "  </tbody>\n",
       "</table>\n",
       "</div>"
      ],
      "text/plain": [
       "                                        0  \\\n",
       "0                                 6743.49   \n",
       "1                                  500.61   \n",
       "2  [5762.309624449566, 7724.665175262502]   \n",
       "\n",
       "                                         1  \\\n",
       "0                                  6692.37   \n",
       "1                                  744.862   \n",
       "2  [5232.466218528859, 8152.2728968515175]   \n",
       "\n",
       "                                        2  \\\n",
       "0                                 6741.49   \n",
       "1                                 899.657   \n",
       "2  [4978.190693595412, 8504.781768252906]   \n",
       "\n",
       "                                        3  \\\n",
       "0                                 6725.37   \n",
       "1                                 1049.54   \n",
       "2  [4668.304457424851, 8782.429798822346]   \n",
       "\n",
       "                                        4  \n",
       "0                                 6732.53  \n",
       "1                                  1171.4  \n",
       "2  [4436.632753778401, 9028.431128017855]  "
      ]
     },
     "execution_count": 5,
     "metadata": {},
     "output_type": "execute_result"
    }
   ],
   "source": [
    "# <ARIMA 모델 활용하기: 실제 데이터와의 비교>\n",
    "\n",
    "forecast_data = model_fit.forecast(steps = 5) # 학습 데이터셋으로부터 5일 뒤를 예측\n",
    "\n",
    "forecast_df = pd.DataFrame(forecast_data)\n",
    "forecast_df.head()\n",
    "# 예측값, stderr, upper bound, lower bound 순으로 결과 나옴\n",
    "# 표준 오차(StdErr)는 계산된 평균의 표준 편차"
   ]
  },
  {
   "cell_type": "code",
   "execution_count": 6,
   "id": "06304c25",
   "metadata": {},
   "outputs": [],
   "source": [
    "# <ARIMA 모델 활용하기: 실제 데이터와의 비교>\n",
    "\n",
    "forecast_data = model_fit.forecast(steps = 5) # 학습 데이터셋으로부터 5일 뒤를 예측\n",
    "\n",
    "# 테스트 데이터셋을 불러옴\n",
    "test_file_path = '../data/market-price-test.csv' # 사용할 파일 경로 저장\n",
    "bitcoin_test_df = pd.read_csv(test_file_path, names = ['ds', 'y']) # csv파일을 dataframe으로 변환\n",
    "\n",
    "pred_y = forecast_data[0].tolist() # 마지막 5일의 예측 데이터입니다.(2018-08-27 ~ 2018-08-31)\n",
    "test_y = bitcoin_test_df.y.values # 실제 5일 가격 데이터 입니다.(2018-08-27 ~ 2018-08-31)\n",
    "pred_y_lower = [] # 마지막 5일의 예측 데이터의 최소값입니다.\n",
    "pred_y_upper = [] # 마지막 5일의 예측 데이터의 최대값입니다.\n",
    "for lower_upper in forecast_data[2]: # 5월의 예측 데이터인 forecast_data의 lowerbound와 upperbound를 하나씩 반복문 이용해서 불러옴\n",
    "    lower = lower_upper[0] # 첫 번째 값은 lowerbound를 가리킴\n",
    "    upper = lower_upper[1] # 두 번째 값은 upperbound를 가리킴\n",
    "    pred_y_lower.append(lower) # 이전에 만들어 둔 pred_y_lower 리스트에 값 추가\n",
    "    pred_y_upper.append(upper) # 이전에 만들어 둔 pred_y_upper 리스트에 값 추가"
   ]
  },
  {
   "cell_type": "code",
   "execution_count": 7,
   "id": "dd2b2446",
   "metadata": {},
   "outputs": [
    {
     "data": {
      "text/plain": [
       "[<matplotlib.lines.Line2D at 0x1f3c8565c50>]"
      ]
     },
     "execution_count": 7,
     "metadata": {},
     "output_type": "execute_result"
    },
    {
     "data": {
      "image/png": "[encoded data removed]",
      "text/plain": [
       "<Figure size 432x288 with 1 Axes>"
      ]
     },
     "metadata": {
      "needs_background": "light"
     },
     "output_type": "display_data"
    }
   ],
   "source": [
    "plt.plot(pred_y, color = \"gold\") # 예측한 가격\n",
    "plt.plot(pred_y_lower, color = \"red\") # 예측한 최저 가격 그래프\n",
    "plt.plot(pred_y_upper, color = \"blue\") # 예측한 최고 가격 그래프\n",
    "plt.plot(test_y, color = \"green\") # 실제 가격 그래프"
   ]
  },
  {
   "cell_type": "code",
   "execution_count": 8,
   "id": "1ea4aaf9",
   "metadata": {
    "scrolled": false
   },
   "outputs": [
    {
     "data": {
      "text/plain": [
       "[<matplotlib.lines.Line2D at 0x1f3c850b748>]"
      ]
     },
     "execution_count": 8,
     "metadata": {},
     "output_type": "execute_result"
    },
    {
     "data": {
      "image/png": "[encoded data removed]",
      "text/plain": [
       "<Figure size 432x288 with 1 Axes>"
      ]
     },
     "metadata": {
      "needs_background": "light"
     },
     "output_type": "display_data"
    }
   ],
   "source": [
    "plt.plot(pred_y, color = \"gold\") # 예측한 가격\n",
    "plt.plot(test_y, color = \"green\") # 실제 가격"
   ]
  },
  {
   "cell_type": "code",
   "execution_count": null,
   "id": "b7d7b2f0",
   "metadata": {},
   "outputs": [],
   "source": [
    "# Facebook Prophet 활용하기\n",
    "\n",
    "from fbprophet import Prophet # fbprophet 라이브러리를 사용하기 위해 Prophet이라는 클래서 선언\n",
    "\n",
    "bitcoin_df = pd.read_csv(file_path, names = ['ds','y']) # 데이터 프레임 피쳐를 ds와 y로 변경하여 csv파일을 dataframe으로 변환\n",
    "# seasonality_mode : 연간, 월간, 주간, 일간 등의 트랜드성을 반영하는 것을 의미하는 파라미터\n",
    "prophet = Prophet(seasonality_mode = 'multiplicative', yearly_seasonality = True, weekly_seasonality = True, daily_seasonality = True,\\\n",
    "            changepoint_prior_scale = 0.5) # 주기성이 연단위를 나타내는 파라미터, 주기성이 주, 일 단위를 나타내는 파라미터\n",
    "# changepoint_prior_scale : 트랜드가 변경되는 문맥을 반영하는 파라미터, 수치가 높을수록 모델은 과적합에 가까워짐\n",
    "prophet.fit(bitcoin_df) # bitcoin_df을 해당 prophet 모델에 학습시킴"
   ]
  },
  {
   "cell_type": "code",
   "execution_count": null,
   "id": "7a13b217",
   "metadata": {},
   "outputs": [],
   "source": [
    "# 5일을 내다보며 예측합니다.\n",
    "future_data = prophet.make_future_dataframe(periods = 5, freq = 'd')\n",
    "forecast_data = prophet.predict(future_data) # 예측 값을 forecast_data에 저장\n",
    "forecast_data[['ds', 'yhat', 'yhat_lower', 'yhat_upper']].tail(5) # 각 결과 값 출력"
   ]
  },
  {
   "cell_type": "code",
   "execution_count": null,
   "id": "b9944ffb",
   "metadata": {},
   "outputs": [],
   "source": [
    "fig1 = prophet.plot(forecast_data) # fbprophet 모델의 학습 결과를 시각화한 결과\n",
    "# 그래프의 검은 점은 실제가격, 파란 선은 예측 가격"
   ]
  },
  {
   "cell_type": "code",
   "execution_count": null,
   "id": "a562c0b4",
   "metadata": {},
   "outputs": [],
   "source": [
    "fig2 = prophet.plot_components(forecast_data) # fbprophet에서 제공하는 트렌드 정보 시각화 그래프\n",
    "# seasonality_mode 파라미터를 앞서 설정해놓은 경우에만 이 시각화 가능\n",
    "# 전체적인 데이터의 트렌드 / year, weekly, daily 순의 트렌드 확인 가능"
   ]
  },
  {
   "cell_type": "code",
   "execution_count": null,
   "id": "ac53d03c",
   "metadata": {},
   "outputs": [],
   "source": [
    "# <Facebook Prophet 활용하기: 실제 데이터와의 비교>\n",
    "\n",
    "bitcoin_test_df = pd.read_csv(test_file_path, names=['ds', 'y'])\n",
    "\n",
    "pred_y = forecast_data.yhat.values[-5:] # 마지막 5일의 예측 데이터입니다. (2018-08-27 ~ 2018-08-31)\n",
    "test_y = bitcoin_test_df.y.values # 실제 5일 가격 데이터입니다. (2018-08-27 ~ 2018-08-31)\n",
    "pred_y_lower = forecast_data.yhat_lower.values[-5:] # 마지막 5일의 예측 데이터의 최소값입니다.\n",
    "pred_y_upper = forecast_data.yhat_upper.values[-5:] # 마지막 5일의 예측 데이터의 최대값입니다.\n",
    "\n",
    "plt.plot(pred_y, color=\"gold\") # 모델이 예상한 가격 그래프입니다.\n",
    "plt.plot(pred_y_lower, color=\"red\") # 모델이 예상한 최소가격 그래프입니다.\n",
    "plt.plot(pred_y_upper, color=\"blue\") # 모델이 예상한 최대가격 그래프입니다.\n",
    "plt.plot(test_y, color=\"green\") # 실제 가격 그래프입니다."
   ]
  },
  {
   "cell_type": "code",
   "execution_count": null,
   "id": "a2f08136",
   "metadata": {},
   "outputs": [],
   "source": [
    "plt.plot(pred_y, color=\"gold\") # 모델이 예상한 가격 그래프입니다.\n",
    "plt.plot(test_y, color=\"green\") # 실제 가격 그래프입니다."
   ]
  },
  {
   "cell_type": "code",
   "execution_count": null,
   "id": "9ef71a98",
   "metadata": {},
   "outputs": [],
   "source": [
    "rmse = sqrt(mean_squared_error(pred_y, test_y))\n",
    "print(rmse)"
   ]
  },
  {
   "cell_type": "code",
   "execution_count": null,
   "id": "1459a98d",
   "metadata": {},
   "outputs": [],
   "source": [
    "bitcoin_df = pd.read_csv(file_path, names=['ds', 'y'])\n",
    "\n",
    "# 상한가를 설정합니다.\n",
    "bitcoin_df['cap'] = 20000\n",
    "\n",
    "# 상한가 적용을 위한 파라미터를 다음과 같이 설정합니다.\n",
    "prophet = Prophet(seasonality_mode='multiplicative', \n",
    "                  growth='logistic',\n",
    "                  yearly_seasonality=True,\n",
    "                  weekly_seasonality=True, daily_seasonality=True,\n",
    "                  changepoint_prior_scale=0.5)\n",
    "prophet.fit(bitcoin_df)\n",
    "\n",
    "# 5일을 내다보며 예측합니다.\n",
    "future_data = prophet.make_future_dataframe(periods=5, freq='d')\n",
    "\n",
    "# 상한가를 설정합니다.\n",
    "future_data['cap'] = 20000\n",
    "forecast_data = prophet.predict(future_data)\n",
    "\n",
    "fig = prophet.plot(forecast_data)"
   ]
  },
  {
   "cell_type": "code",
   "execution_count": null,
   "id": "a312fd1f",
   "metadata": {},
   "outputs": [],
   "source": [
    "bitcoin_test_df = pd.read_csv(test_file_path, names=['ds', 'y'])\n",
    "\n",
    "# 모델이 예상한 마지막 5일의 가격 데이터를 가져옵니다.\n",
    "pred_y = forecast_data.yhat.values[-5:]\n",
    "test_y = bitcoin_test_df.y.values\n",
    "pred_y_lower = forecast_data.yhat_lower.values[-5:]\n",
    "pred_y_upper = forecast_data.yhat_upper.values[-5:]\n",
    "\n",
    "plt.plot(pred_y, color=\"gold\") # 모델이 예상한 가격 그래프입니다.\n",
    "plt.plot(pred_y_lower, color=\"red\") # 모델이 예상한 최소가격 그래프입니다.\n",
    "plt.plot(pred_y_upper, color=\"blue\") # 모델이 예상한 최대가격 그래프입니다.\n",
    "plt.plot(test_y, color=\"green\") # 실제 가격 그래프입니다."
   ]
  },
  {
   "cell_type": "code",
   "execution_count": null,
   "id": "adc99304",
   "metadata": {},
   "outputs": [],
   "source": [
    "# 18000 이상의 데이터는 이상치라고 판단\n",
    "bitcoin_df = pd.read_csv(file_path, names=['ds', 'y'])\n",
    "bitcoin_df.loc[bitcoin_df['y'] > 18000, 'y'] = None\n",
    "\n",
    "# prophet 모델을 학습합니다.\n",
    "prophet = Prophet(seasonality_mode='multiplicative',\n",
    "                  yearly_seasonality=True,\n",
    "                  weekly_seasonality=True, daily_seasonality=True,\n",
    "                  changepoint_prior_scale=0.5)\n",
    "prophet.fit(bitcoin_df)\n",
    "\n",
    "# 5일단위의 미래를 예측합니다.\n",
    "future_data = prophet.make_future_dataframe(periods=5, freq='d')\n",
    "forecast_data = prophet.predict(future_data)\n",
    "\n",
    "# 예측 결과를 그래프로 출력합니다.\n",
    "fig = prophet.plot(forecast_data)"
   ]
  },
  {
   "cell_type": "code",
   "execution_count": null,
   "id": "05c214a5",
   "metadata": {},
   "outputs": [],
   "source": [
    "plt.plot(pred_y, color=\"gold\") # 모델이 예상한 가격 그래프입니다.\n",
    "plt.plot(test_y, color=\"green\") # 실제 가격 그래프입니다.\n",
    "\n",
    "rmse = sqrt(mean_squared_error(pred_y, test_y))\n",
    "print(rmse)"
   ]
  }
 ],
 "metadata": {
  "kernelspec": {
   "display_name": "Python 3",
   "language": "python",
   "name": "python3"
  },
  "language_info": {
   "codemirror_mode": {
    "name": "ipython",
    "version": 3
   },
   "file_extension": ".py",
   "mimetype": "text/x-python",
   "name": "python",
   "nbconvert_exporter": "python",
   "pygments_lexer": "ipython3",
   "version": "3.6.5"
  }
 },
 "nbformat": 4,
 "nbformat_minor": 5
}
